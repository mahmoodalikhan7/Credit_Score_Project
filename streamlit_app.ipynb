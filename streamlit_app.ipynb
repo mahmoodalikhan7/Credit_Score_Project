{
 "cells": [
  {
   "cell_type": "code",
   "execution_count": 17,
   "id": "52f8be3c-f27c-40c0-8768-5cd0609f5df5",
   "metadata": {},
   "outputs": [],
   "source": [
    "import streamlit as st\n",
    "import requests\n",
    "\n",
    "# URL of your deployed FastAPI model on Heroku (replace with your actual URL)\n",
    "API_URL = \"https://creditscore-fastapi.herokuapp.com/predict\"\n",
    "\n",
    "# Streamlit app title\n",
    "st.title('Credit Score Classification')\n",
    "\n",
    "# Input form for user data\n",
    "st.subheader(\"Enter the details to predict credit score:\")\n",
    "\n",
    "# Input fields for user data\n",
    "monthly_salary = st.number_input(\"Monthly Inhand Salary\", min_value=1000.0, step=100.0)\n",
    "num_bank_accounts = st.number_input(\"Number of Bank Accounts\", min_value=0, step=1)\n",
    "num_credit_card = st.number_input(\"Number of Credit Cards\", min_value=0, step=1)\n",
    "interest_rate = st.number_input(\"Interest Rate\", min_value=0.0, step=0.1)\n",
    "occupation = st.selectbox(\"Occupation\", ['Salaried', 'Self-Employed', 'Others'])\n",
    "credit_mix = st.selectbox(\"Credit Mix\", ['Good', 'Bad'])\n",
    "credit_history_age = st.number_input(\"Credit History Age (in years)\", min_value=0.0, step=0.1)\n",
    "\n",
    "# When the button is clicked, send a request to the FastAPI model\n",
    "if st.button(\"Predict\"):\n",
    "    # Prepare data for API request\n",
    "    input_data = {\n",
    "        \"Monthly_Inhand_Salary\": monthly_salary,\n",
    "        \"Num_Bank_Accounts\": num_bank_accounts,\n",
    "        \"Num_Credit_Card\": num_credit_card,\n",
    "        \"Interest_Rate\": interest_rate,\n",
    "        \"Occupation\": occupation,\n",
    "        \"Credit_Mix\": credit_mix,\n",
    "        \"Credit_History_Age\": credit_history_age\n",
    "    }\n",
    "\n",
    "    # Send the input data to FastAPI for prediction\n",
    "    try:\n",
    "        response = requests.post(API_URL, json=input_data)\n",
    "\n",
    "        # Check if the request was successful\n",
    "        if response.status_code == 200:\n",
    "            prediction = response.json()['prediction']\n",
    "            st.success(f\"The predicted credit score classification is: {prediction}\")\n",
    "        else:\n",
    "            st.error(f\"Error: {response.status_code} - {response.text}\")\n",
    "    except requests.exceptions.RequestException as e:\n",
    "        st.error(f\"An error occurred while contacting the API: {e}\")\n"
   ]
  },
  {
   "cell_type": "code",
   "execution_count": null,
   "id": "8d980af7-4908-47b8-b3c5-2767bf29ac23",
   "metadata": {},
   "outputs": [],
   "source": []
  }
 ],
 "metadata": {
  "kernelspec": {
   "display_name": "Python 3 (ipykernel)",
   "language": "python",
   "name": "python3"
  },
  "language_info": {
   "codemirror_mode": {
    "name": "ipython",
    "version": 3
   },
   "file_extension": ".py",
   "mimetype": "text/x-python",
   "name": "python",
   "nbconvert_exporter": "python",
   "pygments_lexer": "ipython3",
   "version": "3.12.7"
  }
 },
 "nbformat": 4,
 "nbformat_minor": 5
}

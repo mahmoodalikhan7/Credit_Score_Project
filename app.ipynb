{
 "cells": [
  {
   "cell_type": "code",
   "execution_count": 45,
   "id": "f5c5739d-cbec-4143-9a11-df4c74ea426b",
   "metadata": {},
   "outputs": [],
   "source": [
    "from fastapi import FastAPI\n",
    "from pydantic import BaseModel\n",
    "import joblib\n",
    "import pandas as pd\n",
    "from sklearn.preprocessing import LabelEncoder\n",
    "\n",
    "# Load the preprocessor and the model\n",
    "preprocessor = joblib.load('preprocessor.joblib')\n",
    "model = joblib.load('best_model.joblib')\n",
    "label_encoder = LabelEncoder()\n",
    "\n",
    "# Initialize the FastAPI app\n",
    "app = FastAPI()\n",
    "\n",
    "# Define the input schema for prediction\n",
    "class PredictionRequest(BaseModel):\n",
    "    Monthly_Inhand_Salary: float\n",
    "    Num_Bank_Accounts: float\n",
    "    Num_Credit_Card: float\n",
    "    Interest_Rate: float\n",
    "    Occupation: str\n",
    "    Credit_Mix: str\n",
    "    Credit_History_Age: float\n",
    "\n",
    "# Define the prediction endpoint\n",
    "@app.post(\"/predict\")\n",
    "def predict(request: PredictionRequest):\n",
    "    print(f\"Received data: {request}\")  # Add a print statement to log the request\n",
    "\n",
    "    # Convert input data into a DataFrame\n",
    "    input_data = pd.DataFrame([{\n",
    "        \"Monthly_Inhand_Salary\": request.Monthly_Inhand_Salary,\n",
    "        \"Num_Bank_Accounts\": request.Num_Bank_Accounts,\n",
    "        \"Num_Credit_Card\": request.Num_Credit_Card,\n",
    "        \"Interest_Rate\": request.Interest_Rate,\n",
    "        \"Occupation\": request.Occupation,\n",
    "        \"Credit_Mix\": request.Credit_Mix,\n",
    "        \"Credit_History_Age\": request.Credit_History_Age\n",
    "    }])\n",
    "\n",
    "    # Perform custom feature engineering (same as in the original experiment)\n",
    "    input_data['Salary_to_Credit_Card_Ratio'] = input_data['Monthly_Inhand_Salary'] / (input_data['Num_Credit_Card'] + 1)\n",
    "    input_data['Salary_to_Bank_Account_Ratio'] = input_data['Monthly_Inhand_Salary'] / (input_data['Num_Bank_Accounts'] + 1)\n",
    "\n",
    "    # Preprocess the input data using the saved preprocessor\n",
    "    preprocessed_data = preprocessor.transform(input_data)\n",
    "\n",
    "    # Get the prediction from the model\n",
    "    prediction = model.predict(preprocessed_data)\n",
    "\n",
    "    # Reverse label encoding if needed (if target is categorical, like \"Good\", \"Poor\")\n",
    "    prediction_label = label_encoder.inverse_transform(prediction)\n",
    "\n",
    "    # Return the prediction\n",
    "    return {\"prediction\": prediction_label[0]}\n"
   ]
  },
  {
   "cell_type": "code",
   "execution_count": null,
   "id": "3980954e-62e8-44a2-8260-1cf840acc716",
   "metadata": {},
   "outputs": [],
   "source": []
  }
 ],
 "metadata": {
  "kernelspec": {
   "display_name": "Python 3 (ipykernel)",
   "language": "python",
   "name": "python3"
  },
  "language_info": {
   "codemirror_mode": {
    "name": "ipython",
    "version": 3
   },
   "file_extension": ".py",
   "mimetype": "text/x-python",
   "name": "python",
   "nbconvert_exporter": "python",
   "pygments_lexer": "ipython3",
   "version": "3.12.7"
  }
 },
 "nbformat": 4,
 "nbformat_minor": 5
}
